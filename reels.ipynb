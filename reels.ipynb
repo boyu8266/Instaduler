{
 "cells": [
  {
   "cell_type": "code",
   "execution_count": 1,
   "metadata": {},
   "outputs": [],
   "source": [
    "import glob\n",
    "import json\n",
    "import os\n",
    "\n",
    "from instagrapi import Client\n",
    "\n",
    "from instaduler.const import *\n",
    "from instaduler.model import Post, PostList"
   ]
  },
  {
   "cell_type": "code",
   "execution_count": 2,
   "metadata": {},
   "outputs": [],
   "source": [
    "QUERY = 'love'\n",
    "ID = 3561152360807760\n",
    "TRACK_HIGHLIGHT_START_TIMES_IN_MS = [100]\n",
    "FOLDER = ''\n",
    "TEXT = ''"
   ]
  },
  {
   "cell_type": "code",
   "execution_count": 3,
   "metadata": {},
   "outputs": [],
   "source": [
    "client = Client()\n",
    "d = client.load_settings('config/session.json')"
   ]
  },
  {
   "cell_type": "code",
   "execution_count": 4,
   "metadata": {},
   "outputs": [
    {
     "data": {
      "text/plain": [
       "[Track(id='3561152360807760', title='Love Lee', subtitle='', display_artist='AKMU', audio_cluster_id=291891636753301, artist_id=None, cover_artwork_uri=HttpUrl('https://cdn.fbsbx.com/v/t65.14500-21/368786383_2652734344877616_1338678711065079745_n.jpg?stp=dst-jpg_p526x296&_nc_cat=1&ccb=1-7&_nc_sid=c499f9&_nc_ohc=1RePfIWzp4YAX8F6dAQ&_nc_ht=cdn.fbsbx.com&oh=00_AfCwuYlMdkZwlCvCwva2Gykye6dsPtkJ7TiMDeqFcGGdWg&oe=6549E398', ), cover_artwork_thumbnail_uri=HttpUrl('https://cdn.fbsbx.com/v/t65.14500-21/368786383_2652734344877616_1338678711065079745_n.jpg?stp=dst-jpg_s168x128&_nc_cat=1&ccb=1-7&_nc_sid=c499f9&_nc_ohc=1RePfIWzp4YAX8F6dAQ&_nc_ht=cdn.fbsbx.com&oh=00_AfDySg2XDVIilu0MZrJ7J4yI2MMLhYJO4V8wCWPdomK_bw&oe=6549E398', ), progressive_download_url=HttpUrl('https://scontent.frmq2-2.fna.fbcdn.net/v/t39.12897-6/369692631_1855040948225056_4071911656672402959_n.m4a?_nc_cat=1&ccb=1-7&_nc_sid=c2de2f&_nc_ohc=vspBFP0SYBUAX-Nma8w&_nc_ad=z-m&_nc_cid=0&_nc_ht=scontent.frmq2-2.fna&oh=00_AfA7c_eG2wY5a5TK_84O8k0ZnPoNAnx3kG5Sji_o0qWo7A&oe=654D27D9', ), fast_start_progressive_download_url=HttpUrl('https://scontent.frmq2-2.fna.fbcdn.net/v/t39.12897-6/369692631_1855040948225056_4071911656672402959_n.m4a?_nc_cat=1&ccb=1-7&_nc_sid=c2de2f&_nc_ohc=vspBFP0SYBUAX-Nma8w&_nc_ad=z-m&_nc_cid=0&_nc_ht=scontent.frmq2-2.fna&oh=00_AfA7c_eG2wY5a5TK_84O8k0ZnPoNAnx3kG5Sji_o0qWo7A&oe=654D27D9', ), reactive_audio_download_url=None, highlight_start_times_in_ms=[47000, 109500, 8500], is_explicit=False, dash_manifest='<?xml version=\"1.0\" encoding=\"UTF-8\"?>\\n<!--Generated with https://github.com/google/shaka-packager version v2.5.1-release-->\\n<MPD xmlns=\"urn:mpeg:dash:schema:mpd:2011\" xmlns:xsi=\"http://www.w3.org/2001/XMLSchema-instance\" xsi:schemaLocation=\"urn:mpeg:dash:schema:mpd:2011 DASH-MPD.xsd\" profiles=\"urn:mpeg:dash:profile:isoff-on-demand:2011\" minBufferTime=\"PT2S\" type=\"static\" mediaPresentationDuration=\"PT179.68304443359375S\">\\n  <Period id=\"0\">\\n    <AdaptationSet id=\"0\" contentType=\"audio\" subsegmentAlignment=\"true\">\\n      <Representation id=\"0\" bandwidth=\"132786\" codecs=\"mp4a.40.2\" mimeType=\"audio/mp4\" audioSamplingRate=\"48000\">\\n        <AudioChannelConfiguration schemeIdUri=\"urn:mpeg:dash:23003:3:audio_channel_configuration:2011\" value=\"2\"/>\\n        <BaseURL>https://scontent.frmq2-2.fna.fbcdn.net/v/t39.12897-6/369496940_835765281117064_6817468710640589764_n.m4a?_nc_cat=1&amp;ccb=1-7&amp;_nc_sid=c2de2f&amp;_nc_ohc=fetruB-9mrcAX-UZtog&amp;_nc_ad=z-m&amp;_nc_cid=0&amp;_nc_ht=scontent.frmq2-2.fna&amp;oh=00_AfCXE25COl2B03LV6LyQsSBjUUiOY8bwgYGFsWY9v4pPAQ&amp;oe=654C94E0</BaseURL>\\n        <SegmentBase indexRange=\"815-1926\" timescale=\"48000\">\\n          <Initialization range=\"0-814\"/>\\n        </SegmentBase>\\n      </Representation>\\n    </AdaptationSet>\\n  </Period>\\n</MPD>\\n', uri=HttpUrl('https://scontent.frmq2-2.fna.fbcdn.net/v/t39.12897-6/369496940_835765281117064_6817468710640589764_n.m4a?_nc_cat=1&ccb=1-7&_nc_sid=c2de2f&_nc_ohc=fetruB-9mrcAX-UZtog&_nc_ad=z-m&_nc_cid=0&_nc_ht=scontent.frmq2-2.fna&oh=00_AfCXE25COl2B03LV6LyQsSBjUUiOY8bwgYGFsWY9v4pPAQ&oe=654C94E0', ), has_lyrics=True, audio_asset_id=3561152360807760, duration_in_ms=179683, dark_message=None, allows_saving=False, territory_validity_periods={}),\n",
       " Track(id='220631690512659', title='love is growing', subtitle='', display_artist='Plastic Plastic', audio_cluster_id=1941914829475033, artist_id=None, cover_artwork_uri=HttpUrl('https://cdn.fbsbx.com/v/t65.14500-21/337774438_928675961504504_7153240624051714047_n.jpg?stp=dst-jpg_p526x296&_nc_cat=1&ccb=1-7&_nc_sid=c499f9&_nc_ohc=veLubo_d4FIAX-EVMEX&_nc_ht=cdn.fbsbx.com&oh=00_AfATf0tpY9LMSOGURttgtVobvo-bSzywvOByGNiXw5hQEg&oe=654A1937', ), cover_artwork_thumbnail_uri=HttpUrl('https://cdn.fbsbx.com/v/t65.14500-21/337774438_928675961504504_7153240624051714047_n.jpg?stp=dst-jpg_s168x128&_nc_cat=1&ccb=1-7&_nc_sid=c499f9&_nc_ohc=veLubo_d4FIAX-EVMEX&_nc_ht=cdn.fbsbx.com&oh=00_AfCkG6E9HyrIaXYDAfFAfOcCOswMiNM-EDiUQgLbHpq7QA&oe=654A1937', ), progressive_download_url=HttpUrl('https://scontent.frmq2-2.fna.fbcdn.net/v/t39.12897-6/336871311_620386553466141_6049892540428533512_n.m4a?_nc_cat=1&ccb=1-7&_nc_sid=c2de2f&_nc_ohc=a9-nUi_Gs9QAX-Si0VT&_nc_ad=z-m&_nc_cid=0&_nc_ht=scontent.frmq2-2.fna&oh=00_AfDQ46L5dUlZW1iRYmQwFMzNogyuJmM_i7TfaRdYfVD50g&oe=654CCA1E', ), fast_start_progressive_download_url=HttpUrl('https://scontent.frmq2-2.fna.fbcdn.net/v/t39.12897-6/336871311_620386553466141_6049892540428533512_n.m4a?_nc_cat=1&ccb=1-7&_nc_sid=c2de2f&_nc_ohc=a9-nUi_Gs9QAX-Si0VT&_nc_ad=z-m&_nc_cid=0&_nc_ht=scontent.frmq2-2.fna&oh=00_AfDQ46L5dUlZW1iRYmQwFMzNogyuJmM_i7TfaRdYfVD50g&oe=654CCA1E', ), reactive_audio_download_url=None, highlight_start_times_in_ms=[65000, 113500, 131500], is_explicit=False, dash_manifest='<?xml version=\"1.0\" encoding=\"UTF-8\"?>\\n<!--Generated with https://github.com/google/shaka-packager version v1.6.0-release-->\\n<MPD xmlns=\"urn:mpeg:dash:schema:mpd:2011\" xmlns:xsi=\"http://www.w3.org/2001/XMLSchema-instance\" xmlns:xlink=\"http://www.w3.org/1999/xlink\" xmlns:cenc=\"urn:mpeg:cenc:2013\" xsi:schemaLocation=\"urn:mpeg:dash:schema:mpd:2011 DASH-MPD.xsd\" profiles=\"urn:mpeg:dash:profile:isoff-on-demand:2011\" minBufferTime=\"PT2S\" type=\"static\" mediaPresentationDuration=\"PT178.466S\">\\n  <Period id=\"0\">\\n    <AdaptationSet id=\"0\" contentType=\"audio\" subsegmentAlignment=\"true\">\\n      <Representation id=\"0\" bandwidth=\"130136\" codecs=\"mp4a.40.2\" mimeType=\"audio/mp4\" audioSamplingRate=\"48000\">\\n        <AudioChannelConfiguration schemeIdUri=\"urn:mpeg:dash:23003:3:audio_channel_configuration:2011\" value=\"2\"/>\\n        <BaseURL>https://scontent.frmq2-2.fna.fbcdn.net/v/t39.12897-6/336881690_745421240525136_3540620305861624990_n.m4a?_nc_cat=1&amp;ccb=1-7&amp;_nc_sid=c2de2f&amp;_nc_ohc=ql_tkdZoTC8AX_CQDOZ&amp;_nc_oc=AQkQEgBHaUMQoocXZqEJPfBvKW27oZcpf7QRrslvZ91JF1BmPcprrWVXrKKwV07ssJg&amp;_nc_ad=z-m&amp;_nc_cid=0&amp;_nc_ht=scontent.frmq2-2.fna&amp;oh=00_AfAGjLJEsT6bTfbWaeHzMWIMWEFXoy6tjIsCtQj6P1LGKw&amp;oe=654D8665</BaseURL>\\n        <SegmentBase indexRange=\"741-1840\" timescale=\"48000\">\\n          <Initialization range=\"0-740\"/>\\n        </SegmentBase>\\n      </Representation>\\n    </AdaptationSet>\\n  </Period>\\n</MPD>\\n', uri=HttpUrl('https://scontent.frmq2-2.fna.fbcdn.net/v/t39.12897-6/336881690_745421240525136_3540620305861624990_n.m4a?_nc_cat=1&ccb=1-7&_nc_sid=c2de2f&_nc_ohc=ql_tkdZoTC8AX_CQDOZ&_nc_oc=AQkQEgBHaUMQoocXZqEJPfBvKW27oZcpf7QRrslvZ91JF1BmPcprrWVXrKKwV07ssJg&_nc_ad=z-m&_nc_cid=0&_nc_ht=scontent.frmq2-2.fna&oh=00_AfAGjLJEsT6bTfbWaeHzMWIMWEFXoy6tjIsCtQj6P1LGKw&oe=654D8665', ), has_lyrics=True, audio_asset_id=220631690512659, duration_in_ms=178422, dark_message=None, allows_saving=False, territory_validity_periods={}),\n",
       " Track(id='417812822786570', title='Love Story (Taylor’s Version)', subtitle='', display_artist='Taylor Swift', audio_cluster_id=2561317137493995, artist_id=None, cover_artwork_uri=HttpUrl('https://cdn.fbsbx.com/v/t65.14500-21/142841827_1054091431745416_7657409462974896309_n.jpg?stp=dst-jpg_p526x296&_nc_cat=1&ccb=1-7&_nc_sid=c499f9&_nc_ohc=uTD6_IQlMTsAX-su0FW&_nc_ht=cdn.fbsbx.com&oh=00_AfDKgS8sqYcA9V9FaYBk8GNZG1WxBC-z6W7mrlqJBEwv7Q&oe=654A60F1', ), cover_artwork_thumbnail_uri=HttpUrl('https://cdn.fbsbx.com/v/t65.14500-21/142841827_1054091431745416_7657409462974896309_n.jpg?stp=dst-jpg_s168x128&_nc_cat=1&ccb=1-7&_nc_sid=c499f9&_nc_ohc=uTD6_IQlMTsAX-su0FW&_nc_ht=cdn.fbsbx.com&oh=00_AfAuC0Q9r0rxl0y3BAAO8NdMJNJ_d4QZs9CbeGkt1j9LBA&oe=654A60F1', ), progressive_download_url=HttpUrl('https://scontent.frmq2-1.fna.fbcdn.net/v/t39.12897-6/290313670_752127679262204_9178707508946194396_n.m4a?_nc_cat=105&ccb=1-7&_nc_sid=c2de2f&_nc_ohc=DPkj-dxldQEAX9fISCQ&_nc_ad=z-m&_nc_cid=0&_nc_ht=scontent.frmq2-1.fna&oh=00_AfA_eN5zAD5QnQCz1rYOsxiw39W0_RRwfQ_kht3mJtMqEA&oe=654CA843', ), fast_start_progressive_download_url=HttpUrl('https://scontent.frmq2-1.fna.fbcdn.net/v/t39.12897-6/290313670_752127679262204_9178707508946194396_n.m4a?_nc_cat=105&ccb=1-7&_nc_sid=c2de2f&_nc_ohc=DPkj-dxldQEAX9fISCQ&_nc_ad=z-m&_nc_cid=0&_nc_ht=scontent.frmq2-1.fna&oh=00_AfA_eN5zAD5QnQCz1rYOsxiw39W0_RRwfQ_kht3mJtMqEA&oe=654CA843', ), reactive_audio_download_url=None, highlight_start_times_in_ms=[64000, 197000, 48000], is_explicit=False, dash_manifest='<?xml version=\"1.0\" encoding=\"UTF-8\"?>\\n<!--Generated with https://github.com/google/shaka-packager version v1.6.0-release-->\\n<MPD xmlns=\"urn:mpeg:dash:schema:mpd:2011\" xmlns:xsi=\"http://www.w3.org/2001/XMLSchema-instance\" xmlns:xlink=\"http://www.w3.org/1999/xlink\" xmlns:cenc=\"urn:mpeg:cenc:2013\" xsi:schemaLocation=\"urn:mpeg:dash:schema:mpd:2011 DASH-MPD.xsd\" profiles=\"urn:mpeg:dash:profile:isoff-on-demand:2011\" minBufferTime=\"PT2S\" type=\"static\" mediaPresentationDuration=\"PT235.809S\">\\n  <Period id=\"0\">\\n    <AdaptationSet id=\"0\" contentType=\"audio\" subsegmentAlignment=\"true\">\\n      <Representation id=\"0\" bandwidth=\"130004\" codecs=\"mp4a.40.2\" mimeType=\"audio/mp4\" audioSamplingRate=\"48000\">\\n        <AudioChannelConfiguration schemeIdUri=\"urn:mpeg:dash:23003:3:audio_channel_configuration:2011\" value=\"2\"/>\\n        <BaseURL>https://scontent.frmq2-2.fna.fbcdn.net/v/t39.12897-6/146810709_420644489150384_6410247204683050038_n.m4a?_nc_cat=1&amp;ccb=1-7&amp;_nc_sid=c2de2f&amp;_nc_ohc=E-z65eo1kDQAX9Re6jE&amp;_nc_ad=z-m&amp;_nc_cid=0&amp;_nc_ht=scontent.frmq2-2.fna&amp;oh=00_AfDNzkHp4EuLPvoeDSMbd3dQGNogFnk8--txRdiYkMzi8Q&amp;oe=654D77C0</BaseURL>\\n        <SegmentBase indexRange=\"741-2188\" timescale=\"48000\">\\n          <Initialization range=\"0-740\"/>\\n        </SegmentBase>\\n      </Representation>\\n    </AdaptationSet>\\n  </Period>\\n</MPD>\\n', uri=HttpUrl('https://scontent.frmq2-2.fna.fbcdn.net/v/t39.12897-6/146810709_420644489150384_6410247204683050038_n.m4a?_nc_cat=1&ccb=1-7&_nc_sid=c2de2f&_nc_ohc=E-z65eo1kDQAX9Re6jE&_nc_ad=z-m&_nc_cid=0&_nc_ht=scontent.frmq2-2.fna&oh=00_AfDNzkHp4EuLPvoeDSMbd3dQGNogFnk8--txRdiYkMzi8Q&oe=654D77C0', ), has_lyrics=True, audio_asset_id=417812822786570, duration_in_ms=235766, dark_message=None, allows_saving=False, territory_validity_periods={})]"
      ]
     },
     "execution_count": 4,
     "metadata": {},
     "output_type": "execute_result"
    }
   ],
   "source": [
    "from instagrapi.extractors import extract_track\n",
    "\n",
    "\n",
    "def custom_search_music(client: Client, query: str):\n",
    "    params = {\n",
    "        \"query\": query,\n",
    "        \"browse_session_id\": client.generate_uuid(),\n",
    "    }\n",
    "    result = client.private_request(\"music/audio_global_search/\", params=params)\n",
    "    items = result['items']\n",
    "    for item in items:\n",
    "        item['track']['territory_validity_periods'] = {}\n",
    "    return [extract_track(item[\"track\"]) for item in result[\"items\"]]\n",
    "\n",
    "\n",
    "tracks = custom_search_music(client, QUERY)\n",
    "tracks"
   ]
  },
  {
   "cell_type": "code",
   "execution_count": 5,
   "metadata": {},
   "outputs": [
    {
     "data": {
      "text/plain": [
       "Track(id='3561152360807760', title='Love Lee', subtitle='', display_artist='AKMU', audio_cluster_id=291891636753301, artist_id=None, cover_artwork_uri=HttpUrl('https://cdn.fbsbx.com/v/t65.14500-21/368786383_2652734344877616_1338678711065079745_n.jpg?stp=dst-jpg_p526x296&_nc_cat=1&ccb=1-7&_nc_sid=c499f9&_nc_ohc=1RePfIWzp4YAX8F6dAQ&_nc_ht=cdn.fbsbx.com&oh=00_AfCwuYlMdkZwlCvCwva2Gykye6dsPtkJ7TiMDeqFcGGdWg&oe=6549E398', ), cover_artwork_thumbnail_uri=HttpUrl('https://cdn.fbsbx.com/v/t65.14500-21/368786383_2652734344877616_1338678711065079745_n.jpg?stp=dst-jpg_s168x128&_nc_cat=1&ccb=1-7&_nc_sid=c499f9&_nc_ohc=1RePfIWzp4YAX8F6dAQ&_nc_ht=cdn.fbsbx.com&oh=00_AfDySg2XDVIilu0MZrJ7J4yI2MMLhYJO4V8wCWPdomK_bw&oe=6549E398', ), progressive_download_url=HttpUrl('https://scontent.frmq2-2.fna.fbcdn.net/v/t39.12897-6/369692631_1855040948225056_4071911656672402959_n.m4a?_nc_cat=1&ccb=1-7&_nc_sid=c2de2f&_nc_ohc=vspBFP0SYBUAX-Nma8w&_nc_ad=z-m&_nc_cid=0&_nc_ht=scontent.frmq2-2.fna&oh=00_AfA7c_eG2wY5a5TK_84O8k0ZnPoNAnx3kG5Sji_o0qWo7A&oe=654D27D9', ), fast_start_progressive_download_url=HttpUrl('https://scontent.frmq2-2.fna.fbcdn.net/v/t39.12897-6/369692631_1855040948225056_4071911656672402959_n.m4a?_nc_cat=1&ccb=1-7&_nc_sid=c2de2f&_nc_ohc=vspBFP0SYBUAX-Nma8w&_nc_ad=z-m&_nc_cid=0&_nc_ht=scontent.frmq2-2.fna&oh=00_AfA7c_eG2wY5a5TK_84O8k0ZnPoNAnx3kG5Sji_o0qWo7A&oe=654D27D9', ), reactive_audio_download_url=None, highlight_start_times_in_ms=[100], is_explicit=False, dash_manifest='<?xml version=\"1.0\" encoding=\"UTF-8\"?>\\n<!--Generated with https://github.com/google/shaka-packager version v2.5.1-release-->\\n<MPD xmlns=\"urn:mpeg:dash:schema:mpd:2011\" xmlns:xsi=\"http://www.w3.org/2001/XMLSchema-instance\" xsi:schemaLocation=\"urn:mpeg:dash:schema:mpd:2011 DASH-MPD.xsd\" profiles=\"urn:mpeg:dash:profile:isoff-on-demand:2011\" minBufferTime=\"PT2S\" type=\"static\" mediaPresentationDuration=\"PT179.68304443359375S\">\\n  <Period id=\"0\">\\n    <AdaptationSet id=\"0\" contentType=\"audio\" subsegmentAlignment=\"true\">\\n      <Representation id=\"0\" bandwidth=\"132786\" codecs=\"mp4a.40.2\" mimeType=\"audio/mp4\" audioSamplingRate=\"48000\">\\n        <AudioChannelConfiguration schemeIdUri=\"urn:mpeg:dash:23003:3:audio_channel_configuration:2011\" value=\"2\"/>\\n        <BaseURL>https://scontent.frmq2-2.fna.fbcdn.net/v/t39.12897-6/369496940_835765281117064_6817468710640589764_n.m4a?_nc_cat=1&amp;ccb=1-7&amp;_nc_sid=c2de2f&amp;_nc_ohc=fetruB-9mrcAX-UZtog&amp;_nc_ad=z-m&amp;_nc_cid=0&amp;_nc_ht=scontent.frmq2-2.fna&amp;oh=00_AfCXE25COl2B03LV6LyQsSBjUUiOY8bwgYGFsWY9v4pPAQ&amp;oe=654C94E0</BaseURL>\\n        <SegmentBase indexRange=\"815-1926\" timescale=\"48000\">\\n          <Initialization range=\"0-814\"/>\\n        </SegmentBase>\\n      </Representation>\\n    </AdaptationSet>\\n  </Period>\\n</MPD>\\n', uri=HttpUrl('https://scontent.frmq2-2.fna.fbcdn.net/v/t39.12897-6/369496940_835765281117064_6817468710640589764_n.m4a?_nc_cat=1&ccb=1-7&_nc_sid=c2de2f&_nc_ohc=fetruB-9mrcAX-UZtog&_nc_ad=z-m&_nc_cid=0&_nc_ht=scontent.frmq2-2.fna&oh=00_AfCXE25COl2B03LV6LyQsSBjUUiOY8bwgYGFsWY9v4pPAQ&oe=654C94E0', ), has_lyrics=True, audio_asset_id=3561152360807760, duration_in_ms=179683, dark_message=None, allows_saving=False, territory_validity_periods={})"
      ]
     },
     "execution_count": 5,
     "metadata": {},
     "output_type": "execute_result"
    }
   ],
   "source": [
    "track_to_post = None\n",
    "for track in tracks:\n",
    "    if track.audio_asset_id != ID:\n",
    "        continue\n",
    "\n",
    "    track.highlight_start_times_in_ms = TRACK_HIGHLIGHT_START_TIMES_IN_MS if len(\n",
    "        TRACK_HIGHLIGHT_START_TIMES_IN_MS) > 0 else track.highlight_start_times_in_ms\n",
    "    track_to_post = track\n",
    "    break\n",
    "track_to_post"
   ]
  },
  {
   "cell_type": "code",
   "execution_count": null,
   "metadata": {},
   "outputs": [],
   "source": [
    "files = glob.glob(os.path.join(FOLDER, \"*.mp4\"))\n",
    "try:\n",
    "    post = Post(files=sorted(files), caption=TEXT)\n",
    "except:\n",
    "    pass\n",
    "\n",
    "try:\n",
    "    postlist = PostList.parse_file(SCHEDULE_FILE)\n",
    "except:\n",
    "    postlist = PostList()\n",
    "\n",
    "try:\n",
    "    if not isinstance(postlist.posts, list):\n",
    "        postlist.posts = []\n",
    "\n",
    "    postlist.posts.append(post)\n",
    "    with open(SCHEDULE_FILE, 'w', encoding='utf-8') as file:\n",
    "        json.dump(postlist.dict(), file, ensure_ascii=False, indent=4)\n",
    "    print(f\"Post from folder: {FOLDER}, with caption: {TEXT}\")\n",
    "except:\n",
    "    print(f\"An exception occurred while saving the JSON file.\")"
   ]
  }
 ],
 "metadata": {
  "kernelspec": {
   "display_name": "igp",
   "language": "python",
   "name": "python3"
  },
  "language_info": {
   "codemirror_mode": {
    "name": "ipython",
    "version": 3
   },
   "file_extension": ".py",
   "mimetype": "text/x-python",
   "name": "python",
   "nbconvert_exporter": "python",
   "pygments_lexer": "ipython3",
   "version": "3.12.0"
  }
 },
 "nbformat": 4,
 "nbformat_minor": 2
}
