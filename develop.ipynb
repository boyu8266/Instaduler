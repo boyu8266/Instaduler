{
 "cells": [
  {
   "cell_type": "code",
   "execution_count": 1,
   "metadata": {},
   "outputs": [],
   "source": [
    "from instagrapi import Client\n",
    "from instagrapi.mixins.track import Track\n"
   ]
  },
  {
   "cell_type": "code",
   "execution_count": 2,
   "metadata": {},
   "outputs": [],
   "source": [
    "client = Client()\n",
    "d = client.load_settings('config/session.json')\n"
   ]
  },
  {
   "cell_type": "code",
   "execution_count": 18,
   "metadata": {},
   "outputs": [],
   "source": [
    "from instagrapi.extractors import extract_track\n",
    "\n",
    "\n",
    "def custom_search_music(client: Client, query: str):\n",
    "    params = {\n",
    "        \"query\": query,\n",
    "        \"browse_session_id\": client.generate_uuid(),\n",
    "    }\n",
    "    result = client.private_request(\"music/audio_global_search/\", params=params)\n",
    "    items = result['items']\n",
    "    for item in items:\n",
    "        item['track']['territory_validity_periods'] = {}\n",
    "    return [extract_track(item[\"track\"]) for item in result[\"items\"]]\n",
    "\n",
    "tracks = custom_search_music(client, 'love')\n",
    "tracks"
   ]
  },
  {
   "cell_type": "code",
   "execution_count": 3,
   "metadata": {},
   "outputs": [
    {
     "ename": "ValidationError",
     "evalue": "1 validation error for Track\n__root__\n  the JSON object must be str, bytes or bytearray, not dict (type=type_error)",
     "output_type": "error",
     "traceback": [
      "\u001b[1;31m---------------------------------------------------------------------------\u001b[0m",
      "\u001b[1;31mTypeError\u001b[0m                                 Traceback (most recent call last)",
      "File \u001b[1;32mc:\\Users\\brendan\\miniconda3\\envs\\igp\\Lib\\site-packages\\pydantic\\main.py:539\u001b[0m, in \u001b[0;36mBaseModel.parse_raw\u001b[1;34m(cls, b, content_type, encoding, proto, allow_pickle)\u001b[0m\n\u001b[0;32m    538\u001b[0m \u001b[39mtry\u001b[39;00m:\n\u001b[1;32m--> 539\u001b[0m     obj \u001b[39m=\u001b[39m load_str_bytes(\n\u001b[0;32m    540\u001b[0m         b,\n\u001b[0;32m    541\u001b[0m         proto\u001b[39m=\u001b[39;49mproto,\n\u001b[0;32m    542\u001b[0m         content_type\u001b[39m=\u001b[39;49mcontent_type,\n\u001b[0;32m    543\u001b[0m         encoding\u001b[39m=\u001b[39;49mencoding,\n\u001b[0;32m    544\u001b[0m         allow_pickle\u001b[39m=\u001b[39;49mallow_pickle,\n\u001b[0;32m    545\u001b[0m         json_loads\u001b[39m=\u001b[39;49m\u001b[39mcls\u001b[39;49m\u001b[39m.\u001b[39;49m__config__\u001b[39m.\u001b[39;49mjson_loads,\n\u001b[0;32m    546\u001b[0m     )\n\u001b[0;32m    547\u001b[0m \u001b[39mexcept\u001b[39;00m (\u001b[39mValueError\u001b[39;00m, \u001b[39mTypeError\u001b[39;00m, \u001b[39mUnicodeDecodeError\u001b[39;00m) \u001b[39mas\u001b[39;00m e:\n",
      "File \u001b[1;32mc:\\Users\\brendan\\miniconda3\\envs\\igp\\Lib\\site-packages\\pydantic\\parse.py:37\u001b[0m, in \u001b[0;36mload_str_bytes\u001b[1;34m(b, content_type, encoding, proto, allow_pickle, json_loads)\u001b[0m\n\u001b[0;32m     36\u001b[0m         b \u001b[39m=\u001b[39m b\u001b[39m.\u001b[39mdecode(encoding)\n\u001b[1;32m---> 37\u001b[0m     \u001b[39mreturn\u001b[39;00m json_loads(b)\n\u001b[0;32m     38\u001b[0m \u001b[39melif\u001b[39;00m proto \u001b[39m==\u001b[39m Protocol\u001b[39m.\u001b[39mpickle:\n",
      "File \u001b[1;32mc:\\Users\\brendan\\miniconda3\\envs\\igp\\Lib\\json\\__init__.py:339\u001b[0m, in \u001b[0;36mloads\u001b[1;34m(s, cls, object_hook, parse_float, parse_int, parse_constant, object_pairs_hook, **kw)\u001b[0m\n\u001b[0;32m    338\u001b[0m \u001b[39mif\u001b[39;00m \u001b[39mnot\u001b[39;00m \u001b[39misinstance\u001b[39m(s, (\u001b[39mbytes\u001b[39m, \u001b[39mbytearray\u001b[39m)):\n\u001b[1;32m--> 339\u001b[0m     \u001b[39mraise\u001b[39;00m \u001b[39mTypeError\u001b[39;00m(\u001b[39mf\u001b[39m\u001b[39m'\u001b[39m\u001b[39mthe JSON object must be str, bytes or bytearray, \u001b[39m\u001b[39m'\u001b[39m\n\u001b[0;32m    340\u001b[0m                     \u001b[39mf\u001b[39m\u001b[39m'\u001b[39m\u001b[39mnot \u001b[39m\u001b[39m{\u001b[39;00ms\u001b[39m.\u001b[39m\u001b[39m__class__\u001b[39m\u001b[39m.\u001b[39m\u001b[39m__name__\u001b[39m\u001b[39m}\u001b[39;00m\u001b[39m'\u001b[39m)\n\u001b[0;32m    341\u001b[0m s \u001b[39m=\u001b[39m s\u001b[39m.\u001b[39mdecode(detect_encoding(s), \u001b[39m'\u001b[39m\u001b[39msurrogatepass\u001b[39m\u001b[39m'\u001b[39m)\n",
      "\u001b[1;31mTypeError\u001b[0m: the JSON object must be str, bytes or bytearray, not dict",
      "\nDuring handling of the above exception, another exception occurred:\n",
      "\u001b[1;31mValidationError\u001b[0m                           Traceback (most recent call last)",
      "\u001b[1;32mc:\\Users\\brendan\\workspace\\python-instagram-scheduler\\develop.ipynb Cell 3\u001b[0m line \u001b[0;36m3\n\u001b[0;32m      <a href='vscode-notebook-cell:/c%3A/Users/brendan/workspace/python-instagram-scheduler/develop.ipynb#X15sZmlsZQ%3D%3D?line=0'>1</a>\u001b[0m items \u001b[39m=\u001b[39m client\u001b[39m.\u001b[39mprivate_request(\u001b[39m'\u001b[39m\u001b[39mmusic/playlist/bookmarked/\u001b[39m\u001b[39m'\u001b[39m, data\u001b[39m=\u001b[39m\u001b[39m\"\u001b[39m\u001b[39m{}\u001b[39;00m\u001b[39m\"\u001b[39m)\n\u001b[0;32m      <a href='vscode-notebook-cell:/c%3A/Users/brendan/workspace/python-instagram-scheduler/develop.ipynb#X15sZmlsZQ%3D%3D?line=1'>2</a>\u001b[0m items \u001b[39m=\u001b[39m items[\u001b[39m'\u001b[39m\u001b[39mitems\u001b[39m\u001b[39m'\u001b[39m]\n\u001b[1;32m----> <a href='vscode-notebook-cell:/c%3A/Users/brendan/workspace/python-instagram-scheduler/develop.ipynb#X15sZmlsZQ%3D%3D?line=2'>3</a>\u001b[0m track \u001b[39m=\u001b[39m Track\u001b[39m.\u001b[39;49mparse_raw(items[\u001b[39m0\u001b[39;49m])\n\u001b[0;32m      <a href='vscode-notebook-cell:/c%3A/Users/brendan/workspace/python-instagram-scheduler/develop.ipynb#X15sZmlsZQ%3D%3D?line=3'>4</a>\u001b[0m track\n",
      "File \u001b[1;32mc:\\Users\\brendan\\miniconda3\\envs\\igp\\Lib\\site-packages\\pydantic\\main.py:548\u001b[0m, in \u001b[0;36mBaseModel.parse_raw\u001b[1;34m(cls, b, content_type, encoding, proto, allow_pickle)\u001b[0m\n\u001b[0;32m    539\u001b[0m     obj \u001b[39m=\u001b[39m load_str_bytes(\n\u001b[0;32m    540\u001b[0m         b,\n\u001b[0;32m    541\u001b[0m         proto\u001b[39m=\u001b[39mproto,\n\u001b[1;32m   (...)\u001b[0m\n\u001b[0;32m    545\u001b[0m         json_loads\u001b[39m=\u001b[39m\u001b[39mcls\u001b[39m\u001b[39m.\u001b[39m__config__\u001b[39m.\u001b[39mjson_loads,\n\u001b[0;32m    546\u001b[0m     )\n\u001b[0;32m    547\u001b[0m \u001b[39mexcept\u001b[39;00m (\u001b[39mValueError\u001b[39;00m, \u001b[39mTypeError\u001b[39;00m, \u001b[39mUnicodeDecodeError\u001b[39;00m) \u001b[39mas\u001b[39;00m e:\n\u001b[1;32m--> 548\u001b[0m     \u001b[39mraise\u001b[39;00m ValidationError([ErrorWrapper(e, loc\u001b[39m=\u001b[39mROOT_KEY)], \u001b[39mcls\u001b[39m)\n\u001b[0;32m    549\u001b[0m \u001b[39mreturn\u001b[39;00m \u001b[39mcls\u001b[39m\u001b[39m.\u001b[39mparse_obj(obj)\n",
      "\u001b[1;31mValidationError\u001b[0m: 1 validation error for Track\n__root__\n  the JSON object must be str, bytes or bytearray, not dict (type=type_error)"
     ]
    }
   ],
   "source": [
    "items = client.private_request('music/playlist/bookmarked/', data=\"{}\")\n",
    "items = items['items']\n",
    "track = Track.parse_raw(items[0])\n",
    "track\n"
   ]
  },
  {
   "cell_type": "code",
   "execution_count": 4,
   "metadata": {},
   "outputs": [
    {
     "data": {
      "text/plain": [
       "{'track': {'audio_cluster_id': '395969576051440',\n",
       "  'id': '1365487637310206',\n",
       "  'title': 'Positive Nanana',\n",
       "  'sanitized_title': None,\n",
       "  'subtitle': '',\n",
       "  'display_artist': 'Balang_3go',\n",
       "  'artist_id': None,\n",
       "  'cover_artwork_uri': 'https://cdn.fbsbx.com/v/t65.14500-21/308454409_831914264846233_2306562162642764534_n.jpg?stp=dst-jpg_p526x296&_nc_cat=1&ccb=1-7&_nc_sid=c499f9&_nc_ohc=-SVJHmcr9MQAX9WU29f&_nc_ht=cdn.fbsbx.com&oh=00_AfCS4VGG9VjIHOXkNC5QYGri3J3kxbpkxDsasyuDly9Arg&oe=652BA8F4',\n",
       "  'cover_artwork_thumbnail_uri': 'https://cdn.fbsbx.com/v/t65.14500-21/308454409_831914264846233_2306562162642764534_n.jpg?stp=dst-jpg_s168x128&_nc_cat=1&ccb=1-7&_nc_sid=c499f9&_nc_ohc=-SVJHmcr9MQAX9WU29f&_nc_ht=cdn.fbsbx.com&oh=00_AfBCl7O6NwFtXuEzJGLCbKqPu1QNpNr87dgSKqsp_mAZsw&oe=652BA8F4',\n",
       "  'progressive_download_url': 'https://scontent.frmq2-2.fna.fbcdn.net/v/t39.12897-6/308454574_1414992142360158_8687204767933625331_n.m4a?_nc_cat=104&ccb=1-7&_nc_sid=c2de2f&_nc_ohc=pUE7ByV1wQIAX97eTgg&_nc_ad=z-m&_nc_cid=0&_nc_ht=scontent.frmq2-2.fna&oh=00_AfD0Co1jXROYHZq6LOBhzzVxEvql6YBN9PHJ9dj9eJp18Q&oe=652E56FF',\n",
       "  'fast_start_progressive_download_url': 'https://scontent.frmq2-2.fna.fbcdn.net/v/t39.12897-6/308454574_1414992142360158_8687204767933625331_n.m4a?_nc_cat=104&ccb=1-7&_nc_sid=c2de2f&_nc_ohc=pUE7ByV1wQIAX97eTgg&_nc_ad=z-m&_nc_cid=0&_nc_ht=scontent.frmq2-2.fna&oh=00_AfD0Co1jXROYHZq6LOBhzzVxEvql6YBN9PHJ9dj9eJp18Q&oe=652E56FF',\n",
       "  'web_30s_preview_download_url': 'https://scontent.frmq2-1.fna.fbcdn.net/v/t39.12897-6/308577369_8847139638645429_7881958468264285078_n.m4a?_nc_cat=108&ccb=1-7&_nc_sid=c2de2f&_nc_ohc=EsB_84_cPCAAX-jBH-i&_nc_ad=z-m&_nc_cid=0&_nc_ht=scontent.frmq2-1.fna&oh=00_AfDjxn098bILlKF1GkGr3vT50_a929cVVfGdQN8QgWPnxw&oe=652F2723',\n",
       "  'reactive_audio_download_url': None,\n",
       "  'highlight_start_times_in_ms': [82000, 97000, 45500],\n",
       "  'is_explicit': False,\n",
       "  'dash_manifest': '<?xml version=\"1.0\" encoding=\"UTF-8\"?>\\n<!--Generated with https://github.com/google/shaka-packager version v1.6.0-release-->\\n<MPD xmlns=\"urn:mpeg:dash:schema:mpd:2011\" xmlns:xsi=\"http://www.w3.org/2001/XMLSchema-instance\" xmlns:xlink=\"http://www.w3.org/1999/xlink\" xmlns:cenc=\"urn:mpeg:cenc:2013\" xsi:schemaLocation=\"urn:mpeg:dash:schema:mpd:2011 DASH-MPD.xsd\" profiles=\"urn:mpeg:dash:profile:isoff-on-demand:2011\" minBufferTime=\"PT2S\" type=\"static\" mediaPresentationDuration=\"PT134.443S\">\\n  <Period id=\"0\">\\n    <AdaptationSet id=\"0\" contentType=\"audio\" subsegmentAlignment=\"true\">\\n      <Representation id=\"0\" bandwidth=\"130129\" codecs=\"mp4a.40.2\" mimeType=\"audio/mp4\" audioSamplingRate=\"48000\">\\n        <AudioChannelConfiguration schemeIdUri=\"urn:mpeg:dash:23003:3:audio_channel_configuration:2011\" value=\"2\"/>\\n        <BaseURL>https://scontent.frmq2-2.fna.fbcdn.net/v/t39.12897-6/308383915_8312756735431432_124885317173947854_n.m4a?_nc_cat=1&amp;ccb=1-7&amp;_nc_sid=c2de2f&amp;_nc_ohc=FatnYa58RJAAX9ZCDj5&amp;_nc_ad=z-m&amp;_nc_cid=0&amp;_nc_ht=scontent.frmq2-2.fna&amp;oh=00_AfBdmGUPrTHROJisgiaXcOWQBFx4jXI27jXJlgnAz-nZnw&amp;oe=652FA6EA</BaseURL>\\n        <SegmentBase indexRange=\"741-1588\" timescale=\"48000\">\\n          <Initialization range=\"0-740\"/>\\n        </SegmentBase>\\n      </Representation>\\n    </AdaptationSet>\\n  </Period>\\n</MPD>\\n',\n",
       "  'has_lyrics': False,\n",
       "  'audio_asset_id': '1365487637310206',\n",
       "  'duration_in_ms': 134400,\n",
       "  'dark_message': None,\n",
       "  'allows_saving': False,\n",
       "  'ig_username': None,\n",
       "  'is_eligible_for_audio_effects': False},\n",
       " 'metadata': {'is_bookmarked': True,\n",
       "  'allow_media_creation_with_music': True,\n",
       "  'is_trending_in_clips': False,\n",
       "  'formatted_clips_media_count': '434K reels'}}"
      ]
     },
     "execution_count": 4,
     "metadata": {},
     "output_type": "execute_result"
    }
   ],
   "source": [
    "items[0]"
   ]
  },
  {
   "cell_type": "code",
   "execution_count": 8,
   "metadata": {},
   "outputs": [],
   "source": [
    "items[0]['track']['territory_validity_periods'] = {}\n"
   ]
  },
  {
   "cell_type": "code",
   "execution_count": 10,
   "metadata": {},
   "outputs": [],
   "source": [
    "track = Track.parse_obj(items[0]['track'])"
   ]
  },
  {
   "cell_type": "code",
   "execution_count": 12,
   "metadata": {},
   "outputs": [
    {
     "data": {
      "text/plain": [
       "[82000, 97000, 45500]"
      ]
     },
     "execution_count": 12,
     "metadata": {},
     "output_type": "execute_result"
    }
   ],
   "source": [
    "track.highlight_start_times_in_ms"
   ]
  },
  {
   "cell_type": "code",
   "execution_count": null,
   "metadata": {},
   "outputs": [],
   "source": []
  }
 ],
 "metadata": {
  "kernelspec": {
   "display_name": "igp",
   "language": "python",
   "name": "python3"
  },
  "language_info": {
   "codemirror_mode": {
    "name": "ipython",
    "version": 3
   },
   "file_extension": ".py",
   "mimetype": "text/x-python",
   "name": "python",
   "nbconvert_exporter": "python",
   "pygments_lexer": "ipython3",
   "version": "3.12.0"
  }
 },
 "nbformat": 4,
 "nbformat_minor": 2
}
